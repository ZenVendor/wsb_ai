{
 "cells": [
  {
   "cell_type": "markdown",
   "metadata": {},
   "source": [
    "# Laboratorium 3\n",
    "## Ćwiczenie 1\n",
    "\n",
    "### Wykres wyniku regresji liniowej \n",
    "\n",
    "![png](output_7_1.png)\n",
    "\n",
    "### Wielomian, stopień 2\n",
    "\n",
    "![png](output_14_1.png)\n",
    "\n",
    "\n",
    "### Wielomian, stopień 3\n",
    "\n",
    "![png](output_20_1.png)\n",
    "\n",
    "\n",
    "### Wielomian, stopień 4\n",
    "\n",
    "![png](output_26_1.png)\n",
    "\n",
    "### Wartości obliczone dla level 6 salary, dla kolejnych stopni wielomianu\n",
    "\n",
    "<ol>\n",
    "    <li>289939.39393939</li>\n",
    "    <li>134484.84848485</li>\n",
    "    <li>104820.51282051</li>\n",
    "    <li>143275.05827509</li>\n",
    "</ol>\n",
    "\n",
    "### Który z modeli dokonał najlepszej predykcji parametru Salary dla Level = 6? Czym to jest spowodowane?\n",
    "\n",
    "Najlepszej predykcji dokonał model korzystający z funkcji wielomianowej najwyższego stopnia, ponieważ wartości danych nie zmieniają się liniowo. Jednocześnie, ponieważ nie pasują one do prostej funkcji kwadratowej, zwiększanie stopnia wielomianu pozwala na lepsze dostosowanie modelu. Ma to oczywiście swoje granice, wynikające ze stosunku kosztu (np. czasu przetwarzania danych i wymaganej mocy obliczeniowej) do korzyści wynikających z dokładności predykcji. Zbyt wysoki stopień może także wprowadzić niepotrzebny szum do danych o dużej zmienności."
   ]
  }
 ],
 "metadata": {
  "kernelspec": {
   "display_name": "Python 3",
   "language": "python",
   "name": "python3"
  },
  "language_info": {
   "codemirror_mode": {
    "name": "ipython",
    "version": 3
   },
   "file_extension": ".py",
   "mimetype": "text/x-python",
   "name": "python",
   "nbconvert_exporter": "python",
   "pygments_lexer": "ipython3",
   "version": "3.7.6"
  }
 },
 "nbformat": 4,
 "nbformat_minor": 4
}
