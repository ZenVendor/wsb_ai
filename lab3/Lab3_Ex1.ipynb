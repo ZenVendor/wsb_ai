{
 "cells": [
  {
   "cell_type": "code",
   "execution_count": 14,
   "metadata": {},
   "outputs": [],
   "source": [
    "import numpy as np\n",
    "import pandas as pd"
   ]
  },
  {
   "cell_type": "code",
   "execution_count": 15,
   "metadata": {},
   "outputs": [
    {
     "data": {
      "text/html": [
       "<div>\n",
       "<style scoped>\n",
       "    .dataframe tbody tr th:only-of-type {\n",
       "        vertical-align: middle;\n",
       "    }\n",
       "\n",
       "    .dataframe tbody tr th {\n",
       "        vertical-align: top;\n",
       "    }\n",
       "\n",
       "    .dataframe thead th {\n",
       "        text-align: right;\n",
       "    }\n",
       "</style>\n",
       "<table border=\"1\" class=\"dataframe\">\n",
       "  <thead>\n",
       "    <tr style=\"text-align: right;\">\n",
       "      <th></th>\n",
       "      <th>Position</th>\n",
       "      <th>Level</th>\n",
       "      <th>Salary</th>\n",
       "    </tr>\n",
       "  </thead>\n",
       "  <tbody>\n",
       "    <tr>\n",
       "      <th>0</th>\n",
       "      <td>Business Analyst</td>\n",
       "      <td>1</td>\n",
       "      <td>45000</td>\n",
       "    </tr>\n",
       "    <tr>\n",
       "      <th>1</th>\n",
       "      <td>Junior Consultant</td>\n",
       "      <td>2</td>\n",
       "      <td>50000</td>\n",
       "    </tr>\n",
       "    <tr>\n",
       "      <th>2</th>\n",
       "      <td>Senior Consultant</td>\n",
       "      <td>3</td>\n",
       "      <td>60000</td>\n",
       "    </tr>\n",
       "    <tr>\n",
       "      <th>3</th>\n",
       "      <td>Manager</td>\n",
       "      <td>4</td>\n",
       "      <td>80000</td>\n",
       "    </tr>\n",
       "    <tr>\n",
       "      <th>4</th>\n",
       "      <td>Country Manager</td>\n",
       "      <td>5</td>\n",
       "      <td>110000</td>\n",
       "    </tr>\n",
       "    <tr>\n",
       "      <th>5</th>\n",
       "      <td>Region Manager</td>\n",
       "      <td>6</td>\n",
       "      <td>150000</td>\n",
       "    </tr>\n",
       "    <tr>\n",
       "      <th>6</th>\n",
       "      <td>Partner</td>\n",
       "      <td>7</td>\n",
       "      <td>200000</td>\n",
       "    </tr>\n",
       "    <tr>\n",
       "      <th>7</th>\n",
       "      <td>Senior Partner</td>\n",
       "      <td>8</td>\n",
       "      <td>300000</td>\n",
       "    </tr>\n",
       "    <tr>\n",
       "      <th>8</th>\n",
       "      <td>C-level</td>\n",
       "      <td>9</td>\n",
       "      <td>500000</td>\n",
       "    </tr>\n",
       "    <tr>\n",
       "      <th>9</th>\n",
       "      <td>CEO</td>\n",
       "      <td>10</td>\n",
       "      <td>1000000</td>\n",
       "    </tr>\n",
       "  </tbody>\n",
       "</table>\n",
       "</div>"
      ],
      "text/plain": [
       "            Position  Level   Salary\n",
       "0   Business Analyst      1    45000\n",
       "1  Junior Consultant      2    50000\n",
       "2  Senior Consultant      3    60000\n",
       "3            Manager      4    80000\n",
       "4    Country Manager      5   110000\n",
       "5     Region Manager      6   150000\n",
       "6            Partner      7   200000\n",
       "7     Senior Partner      8   300000\n",
       "8            C-level      9   500000\n",
       "9                CEO     10  1000000"
      ]
     },
     "execution_count": 15,
     "metadata": {},
     "output_type": "execute_result"
    }
   ],
   "source": [
    "dataset = pd.read_csv('Position_Salaries.csv')\n",
    "dataset"
   ]
  },
  {
   "cell_type": "code",
   "execution_count": 16,
   "metadata": {},
   "outputs": [],
   "source": [
    "X = dataset.iloc[:, 1:2]\n",
    "y = dataset.iloc[:, 2]"
   ]
  },
  {
   "cell_type": "code",
   "execution_count": 17,
   "metadata": {},
   "outputs": [],
   "source": [
    "from sklearn.linear_model import LinearRegression"
   ]
  },
  {
   "cell_type": "code",
   "execution_count": 18,
   "metadata": {},
   "outputs": [],
   "source": [
    "lin_reg = LinearRegression()"
   ]
  },
  {
   "cell_type": "code",
   "execution_count": 19,
   "metadata": {},
   "outputs": [
    {
     "data": {
      "text/plain": [
       "LinearRegression(copy_X=True, fit_intercept=True, n_jobs=None, normalize=False)"
      ]
     },
     "execution_count": 19,
     "metadata": {},
     "output_type": "execute_result"
    }
   ],
   "source": [
    "lin_reg.fit(X, y)"
   ]
  },
  {
   "cell_type": "code",
   "execution_count": 20,
   "metadata": {},
   "outputs": [],
   "source": [
    "import matplotlib.pyplot as plt"
   ]
  },
  {
   "cell_type": "code",
   "execution_count": 21,
   "metadata": {},
   "outputs": [
    {
     "data": {
      "text/plain": [
       "[<matplotlib.lines.Line2D at 0x7f34bb6f3d90>]"
      ]
     },
     "execution_count": 21,
     "metadata": {},
     "output_type": "execute_result"
    },
    {
     "data": {
      "image/png": "[encoded data removed]",
      "text/plain": [
       "<Figure size 432x288 with 1 Axes>"
      ]
     },
     "metadata": {
      "needs_background": "light"
     },
     "output_type": "display_data"
    }
   ],
   "source": [
    "plt.title(u'Wysokość wynagrodzenia vs pozycja')\n",
    "plt.xlabel(u'Pozycja')\n",
    "plt.ylabel(u'Wysokość wynagrodzenia')\n",
    "\n",
    "plt.scatter(X, y, color = 'red')\n",
    "plt.plot(X, lin_reg.predict(X), color = 'blue')"
   ]
  },
  {
   "cell_type": "code",
   "execution_count": 22,
   "metadata": {},
   "outputs": [
    {
     "name": "stdout",
     "output_type": "stream",
     "text": [
      "[289939.39393939]\n"
     ]
    }
   ],
   "source": [
    "arr = np.array([6])\n",
    "arr = arr.reshape(1, -1)\n",
    "print(lin_reg.predict(arr))"
   ]
  },
  {
   "cell_type": "code",
   "execution_count": 23,
   "metadata": {},
   "outputs": [],
   "source": [
    "from sklearn.preprocessing import PolynomialFeatures"
   ]
  },
  {
   "cell_type": "markdown",
   "metadata": {},
   "source": [
    "### degree = 2"
   ]
  },
  {
   "cell_type": "code",
   "execution_count": 24,
   "metadata": {},
   "outputs": [
    {
     "data": {
      "text/plain": [
       "PolynomialFeatures(degree=2, include_bias=True, interaction_only=False,\n",
       "                   order='C')"
      ]
     },
     "execution_count": 24,
     "metadata": {},
     "output_type": "execute_result"
    }
   ],
   "source": [
    "poly_reg2 = PolynomialFeatures(degree = 2)\n",
    "X_poly2 = poly_reg2.fit_transform(X)\n",
    "poly_reg2.fit(X_poly2, y)"
   ]
  },
  {
   "cell_type": "code",
   "execution_count": 25,
   "metadata": {},
   "outputs": [
    {
     "name": "stdout",
     "output_type": "stream",
     "text": [
      "[[  1.   1.   1.]\n",
      " [  1.   2.   4.]\n",
      " [  1.   3.   9.]\n",
      " [  1.   4.  16.]\n",
      " [  1.   5.  25.]\n",
      " [  1.   6.  36.]\n",
      " [  1.   7.  49.]\n",
      " [  1.   8.  64.]\n",
      " [  1.   9.  81.]\n",
      " [  1.  10. 100.]]\n"
     ]
    }
   ],
   "source": [
    "print(X_poly2)"
   ]
  },
  {
   "cell_type": "code",
   "execution_count": 26,
   "metadata": {},
   "outputs": [
    {
     "data": {
      "text/plain": [
       "LinearRegression(copy_X=True, fit_intercept=True, n_jobs=None, normalize=False)"
      ]
     },
     "execution_count": 26,
     "metadata": {},
     "output_type": "execute_result"
    }
   ],
   "source": [
    "lin_reg2 = LinearRegression()\n",
    "lin_reg2.fit(X_poly2, y)"
   ]
  },
  {
   "cell_type": "code",
   "execution_count": 27,
   "metadata": {},
   "outputs": [
    {
     "data": {
      "text/plain": [
       "[<matplotlib.lines.Line2D at 0x7f34bb668a90>]"
      ]
     },
     "execution_count": 27,
     "metadata": {},
     "output_type": "execute_result"
    },
    {
     "data": {
      "image/png": "[encoded data removed]",
      "text/plain": [
       "<Figure size 432x288 with 1 Axes>"
      ]
     },
     "metadata": {
      "needs_background": "light"
     },
     "output_type": "display_data"
    }
   ],
   "source": [
    "plt.title(u'Wysokość wynagrodzenia vs pozycja')\n",
    "plt.xlabel(u'Pozycja')\n",
    "plt.ylabel(u'Wysokość wynagrodzenia')\n",
    "\n",
    "plt.scatter(X, y, color = 'red')\n",
    "plt.plot(X, lin_reg2.predict(poly_reg2.fit_transform(X)), color = 'blue')"
   ]
  },
  {
   "cell_type": "code",
   "execution_count": 28,
   "metadata": {},
   "outputs": [
    {
     "name": "stdout",
     "output_type": "stream",
     "text": [
      "[134484.84848485]\n"
     ]
    }
   ],
   "source": [
    "print(lin_reg2.predict(poly_reg2.fit_transform(arr)))"
   ]
  },
  {
   "cell_type": "markdown",
   "metadata": {},
   "source": [
    "### degree = 3"
   ]
  },
  {
   "cell_type": "code",
   "execution_count": 29,
   "metadata": {},
   "outputs": [
    {
     "data": {
      "text/plain": [
       "PolynomialFeatures(degree=3, include_bias=True, interaction_only=False,\n",
       "                   order='C')"
      ]
     },
     "execution_count": 29,
     "metadata": {},
     "output_type": "execute_result"
    }
   ],
   "source": [
    "poly_reg3 = PolynomialFeatures(degree = 3)\n",
    "X_poly3 = poly_reg3.fit_transform(X)\n",
    "poly_reg3.fit(X_poly3, y)"
   ]
  },
  {
   "cell_type": "code",
   "execution_count": 30,
   "metadata": {},
   "outputs": [
    {
     "name": "stdout",
     "output_type": "stream",
     "text": [
      "[[   1.    1.    1.    1.]\n",
      " [   1.    2.    4.    8.]\n",
      " [   1.    3.    9.   27.]\n",
      " [   1.    4.   16.   64.]\n",
      " [   1.    5.   25.  125.]\n",
      " [   1.    6.   36.  216.]\n",
      " [   1.    7.   49.  343.]\n",
      " [   1.    8.   64.  512.]\n",
      " [   1.    9.   81.  729.]\n",
      " [   1.   10.  100. 1000.]]\n"
     ]
    }
   ],
   "source": [
    "print(X_poly3)"
   ]
  },
  {
   "cell_type": "code",
   "execution_count": 31,
   "metadata": {},
   "outputs": [
    {
     "name": "stdout",
     "output_type": "stream",
     "text": [
      "LinearRegression(copy_X=True, fit_intercept=True, n_jobs=None, normalize=False)\n"
     ]
    }
   ],
   "source": [
    "lin_reg3 = LinearRegression()\n",
    "lin_reg3.fit(X_poly3, y)\n",
    "print(lin_reg3)"
   ]
  },
  {
   "cell_type": "code",
   "execution_count": 32,
   "metadata": {},
   "outputs": [
    {
     "data": {
      "text/plain": [
       "[<matplotlib.lines.Line2D at 0x7f34bb5cced0>]"
      ]
     },
     "execution_count": 32,
     "metadata": {},
     "output_type": "execute_result"
    },
    {
     "data": {
      "image/png": "[encoded data removed]",
      "text/plain": [
       "<Figure size 432x288 with 1 Axes>"
      ]
     },
     "metadata": {
      "needs_background": "light"
     },
     "output_type": "display_data"
    }
   ],
   "source": [
    "plt.title(u'Wysokość wynagrodzenia vs pozycja')\n",
    "plt.xlabel(u'Pozycja')\n",
    "plt.ylabel(u'Wysokość wynagrodzenia')\n",
    "\n",
    "plt.scatter(X, y, color = 'red')\n",
    "plt.plot(X, lin_reg3.predict(poly_reg3.fit_transform(X)), color = 'blue')"
   ]
  },
  {
   "cell_type": "code",
   "execution_count": 33,
   "metadata": {},
   "outputs": [
    {
     "name": "stdout",
     "output_type": "stream",
     "text": [
      "[104820.51282051]\n"
     ]
    }
   ],
   "source": [
    "print(lin_reg3.predict(poly_reg3.fit_transform(arr)))"
   ]
  },
  {
   "cell_type": "markdown",
   "metadata": {},
   "source": [
    "### degree = 4"
   ]
  },
  {
   "cell_type": "code",
   "execution_count": 34,
   "metadata": {},
   "outputs": [
    {
     "data": {
      "text/plain": [
       "PolynomialFeatures(degree=4, include_bias=True, interaction_only=False,\n",
       "                   order='C')"
      ]
     },
     "execution_count": 34,
     "metadata": {},
     "output_type": "execute_result"
    }
   ],
   "source": [
    "poly_reg4 = PolynomialFeatures(degree = 4)\n",
    "X_poly4 = poly_reg4.fit_transform(X)\n",
    "poly_reg4.fit(X_poly4, y)"
   ]
  },
  {
   "cell_type": "code",
   "execution_count": 35,
   "metadata": {},
   "outputs": [
    {
     "name": "stdout",
     "output_type": "stream",
     "text": [
      "[[1.000e+00 1.000e+00 1.000e+00 1.000e+00 1.000e+00]\n",
      " [1.000e+00 2.000e+00 4.000e+00 8.000e+00 1.600e+01]\n",
      " [1.000e+00 3.000e+00 9.000e+00 2.700e+01 8.100e+01]\n",
      " [1.000e+00 4.000e+00 1.600e+01 6.400e+01 2.560e+02]\n",
      " [1.000e+00 5.000e+00 2.500e+01 1.250e+02 6.250e+02]\n",
      " [1.000e+00 6.000e+00 3.600e+01 2.160e+02 1.296e+03]\n",
      " [1.000e+00 7.000e+00 4.900e+01 3.430e+02 2.401e+03]\n",
      " [1.000e+00 8.000e+00 6.400e+01 5.120e+02 4.096e+03]\n",
      " [1.000e+00 9.000e+00 8.100e+01 7.290e+02 6.561e+03]\n",
      " [1.000e+00 1.000e+01 1.000e+02 1.000e+03 1.000e+04]]\n"
     ]
    }
   ],
   "source": [
    "print(X_poly4)"
   ]
  },
  {
   "cell_type": "code",
   "execution_count": 36,
   "metadata": {},
   "outputs": [
    {
     "data": {
      "text/plain": [
       "LinearRegression(copy_X=True, fit_intercept=True, n_jobs=None, normalize=False)"
      ]
     },
     "execution_count": 36,
     "metadata": {},
     "output_type": "execute_result"
    }
   ],
   "source": [
    "lin_reg4 = LinearRegression()\n",
    "lin_reg4.fit(X_poly4, y)"
   ]
  },
  {
   "cell_type": "code",
   "execution_count": 37,
   "metadata": {},
   "outputs": [
    {
     "data": {
      "text/plain": [
       "[<matplotlib.lines.Line2D at 0x7f34bb5b6a90>]"
      ]
     },
     "execution_count": 37,
     "metadata": {},
     "output_type": "execute_result"
    },
    {
     "data": {
      "image/png": "[encoded data removed]",
      "text/plain": [
       "<Figure size 432x288 with 1 Axes>"
      ]
     },
     "metadata": {
      "needs_background": "light"
     },
     "output_type": "display_data"
    }
   ],
   "source": [
    "plt.title(u'Wysokość wynagrodzenia vs pozycja')\n",
    "plt.xlabel(u'Pozycja')\n",
    "plt.ylabel(u'Wysokość wynagrodzenia')\n",
    "\n",
    "plt.scatter(X, y, color = 'red')\n",
    "plt.plot(X, lin_reg4.predict(poly_reg4.fit_transform(X)), color = 'blue')"
   ]
  },
  {
   "cell_type": "code",
   "execution_count": 38,
   "metadata": {},
   "outputs": [
    {
     "name": "stdout",
     "output_type": "stream",
     "text": [
      "[143275.05827509]\n"
     ]
    }
   ],
   "source": [
    "print(lin_reg4.predict(poly_reg4.fit_transform(arr)))"
   ]
  },
  {
   "cell_type": "markdown",
   "metadata": {},
   "source": [
    "### degree = 5"
   ]
  },
  {
   "cell_type": "code",
   "execution_count": 39,
   "metadata": {},
   "outputs": [
    {
     "data": {
      "text/plain": [
       "PolynomialFeatures(degree=5, include_bias=True, interaction_only=False,\n",
       "                   order='C')"
      ]
     },
     "execution_count": 39,
     "metadata": {},
     "output_type": "execute_result"
    }
   ],
   "source": [
    "poly_reg5 = PolynomialFeatures(degree = 5)\n",
    "X_poly5 = poly_reg5.fit_transform(X)\n",
    "poly_reg5.fit(X_poly5, y)"
   ]
  },
  {
   "cell_type": "code",
   "execution_count": 40,
   "metadata": {},
   "outputs": [
    {
     "name": "stdout",
     "output_type": "stream",
     "text": [
      "[[1.0000e+00 1.0000e+00 1.0000e+00 1.0000e+00 1.0000e+00 1.0000e+00]\n",
      " [1.0000e+00 2.0000e+00 4.0000e+00 8.0000e+00 1.6000e+01 3.2000e+01]\n",
      " [1.0000e+00 3.0000e+00 9.0000e+00 2.7000e+01 8.1000e+01 2.4300e+02]\n",
      " [1.0000e+00 4.0000e+00 1.6000e+01 6.4000e+01 2.5600e+02 1.0240e+03]\n",
      " [1.0000e+00 5.0000e+00 2.5000e+01 1.2500e+02 6.2500e+02 3.1250e+03]\n",
      " [1.0000e+00 6.0000e+00 3.6000e+01 2.1600e+02 1.2960e+03 7.7760e+03]\n",
      " [1.0000e+00 7.0000e+00 4.9000e+01 3.4300e+02 2.4010e+03 1.6807e+04]\n",
      " [1.0000e+00 8.0000e+00 6.4000e+01 5.1200e+02 4.0960e+03 3.2768e+04]\n",
      " [1.0000e+00 9.0000e+00 8.1000e+01 7.2900e+02 6.5610e+03 5.9049e+04]\n",
      " [1.0000e+00 1.0000e+01 1.0000e+02 1.0000e+03 1.0000e+04 1.0000e+05]]\n"
     ]
    }
   ],
   "source": [
    "print(X_poly5)"
   ]
  },
  {
   "cell_type": "code",
   "execution_count": 41,
   "metadata": {},
   "outputs": [
    {
     "data": {
      "text/plain": [
       "LinearRegression(copy_X=True, fit_intercept=True, n_jobs=None, normalize=False)"
      ]
     },
     "execution_count": 41,
     "metadata": {},
     "output_type": "execute_result"
    }
   ],
   "source": [
    "lin_reg5 = LinearRegression()\n",
    "lin_reg5.fit(X_poly5, y)"
   ]
  },
  {
   "cell_type": "code",
   "execution_count": 42,
   "metadata": {},
   "outputs": [
    {
     "data": {
      "text/plain": [
       "[<matplotlib.lines.Line2D at 0x7f34bb55e610>]"
      ]
     },
     "execution_count": 42,
     "metadata": {},
     "output_type": "execute_result"
    },
    {
     "data": {
      "image/png": "[encoded data removed]",
      "text/plain": [
       "<Figure size 432x288 with 1 Axes>"
      ]
     },
     "metadata": {
      "needs_background": "light"
     },
     "output_type": "display_data"
    }
   ],
   "source": [
    "plt.title(u'Wysokość wynagrodzenia vs pozycja')\n",
    "plt.xlabel(u'Pozycja')\n",
    "plt.ylabel(u'Wysokość wynagrodzenia')\n",
    "\n",
    "plt.scatter(X, y, color = 'red')\n",
    "plt.plot(X, lin_reg5.predict(poly_reg5.fit_transform(X)), color = 'blue')"
   ]
  },
  {
   "cell_type": "code",
   "execution_count": 43,
   "metadata": {},
   "outputs": [
    {
     "name": "stdout",
     "output_type": "stream",
     "text": [
      "[152736.59673701]\n"
     ]
    }
   ],
   "source": [
    "print(lin_reg5.predict(poly_reg5.fit_transform(arr)))"
   ]
  },
  {
   "cell_type": "markdown",
   "metadata": {},
   "source": [
    "### degree = 6"
   ]
  },
  {
   "cell_type": "code",
   "execution_count": 44,
   "metadata": {},
   "outputs": [
    {
     "data": {
      "text/plain": [
       "PolynomialFeatures(degree=6, include_bias=True, interaction_only=False,\n",
       "                   order='C')"
      ]
     },
     "execution_count": 44,
     "metadata": {},
     "output_type": "execute_result"
    }
   ],
   "source": [
    "poly_reg6 = PolynomialFeatures(degree = 6)\n",
    "X_poly6 = poly_reg6.fit_transform(X)\n",
    "poly_reg6.fit(X_poly6, y)"
   ]
  },
  {
   "cell_type": "code",
   "execution_count": 45,
   "metadata": {},
   "outputs": [
    {
     "name": "stdout",
     "output_type": "stream",
     "text": [
      "[[1.00000e+00 1.00000e+00 1.00000e+00 1.00000e+00 1.00000e+00 1.00000e+00\n",
      "  1.00000e+00]\n",
      " [1.00000e+00 2.00000e+00 4.00000e+00 8.00000e+00 1.60000e+01 3.20000e+01\n",
      "  6.40000e+01]\n",
      " [1.00000e+00 3.00000e+00 9.00000e+00 2.70000e+01 8.10000e+01 2.43000e+02\n",
      "  7.29000e+02]\n",
      " [1.00000e+00 4.00000e+00 1.60000e+01 6.40000e+01 2.56000e+02 1.02400e+03\n",
      "  4.09600e+03]\n",
      " [1.00000e+00 5.00000e+00 2.50000e+01 1.25000e+02 6.25000e+02 3.12500e+03\n",
      "  1.56250e+04]\n",
      " [1.00000e+00 6.00000e+00 3.60000e+01 2.16000e+02 1.29600e+03 7.77600e+03\n",
      "  4.66560e+04]\n",
      " [1.00000e+00 7.00000e+00 4.90000e+01 3.43000e+02 2.40100e+03 1.68070e+04\n",
      "  1.17649e+05]\n",
      " [1.00000e+00 8.00000e+00 6.40000e+01 5.12000e+02 4.09600e+03 3.27680e+04\n",
      "  2.62144e+05]\n",
      " [1.00000e+00 9.00000e+00 8.10000e+01 7.29000e+02 6.56100e+03 5.90490e+04\n",
      "  5.31441e+05]\n",
      " [1.00000e+00 1.00000e+01 1.00000e+02 1.00000e+03 1.00000e+04 1.00000e+05\n",
      "  1.00000e+06]]\n"
     ]
    }
   ],
   "source": [
    "print(X_poly6)"
   ]
  },
  {
   "cell_type": "code",
   "execution_count": 46,
   "metadata": {},
   "outputs": [
    {
     "data": {
      "text/plain": [
       "LinearRegression(copy_X=True, fit_intercept=True, n_jobs=None, normalize=False)"
      ]
     },
     "execution_count": 46,
     "metadata": {},
     "output_type": "execute_result"
    }
   ],
   "source": [
    "lin_reg6 = LinearRegression()\n",
    "lin_reg6.fit(X_poly6, y)"
   ]
  },
  {
   "cell_type": "code",
   "execution_count": 47,
   "metadata": {},
   "outputs": [
    {
     "data": {
      "text/plain": [
       "[<matplotlib.lines.Line2D at 0x7f34bb47fb50>]"
      ]
     },
     "execution_count": 47,
     "metadata": {},
     "output_type": "execute_result"
    },
    {
     "data": {
      "image/png": "[encoded data removed]",
      "text/plain": [
       "<Figure size 432x288 with 1 Axes>"
      ]
     },
     "metadata": {
      "needs_background": "light"
     },
     "output_type": "display_data"
    }
   ],
   "source": [
    "plt.title(u'Wysokość wynagrodzenia vs pozycja')\n",
    "plt.xlabel(u'Pozycja')\n",
    "plt.ylabel(u'Wysokość wynagrodzenia')\n",
    "\n",
    "plt.scatter(X, y, color = 'red')\n",
    "plt.plot(X, lin_reg6.predict(poly_reg6.fit_transform(X)), color = 'blue')"
   ]
  },
  {
   "cell_type": "code",
   "execution_count": 48,
   "metadata": {},
   "outputs": [
    {
     "name": "stdout",
     "output_type": "stream",
     "text": [
      "[149282.0512826]\n"
     ]
    }
   ],
   "source": [
    "print(lin_reg6.predict(poly_reg6.fit_transform(arr)))"
   ]
  },
  {
   "cell_type": "markdown",
   "metadata": {},
   "source": [
    "### degree = 10"
   ]
  },
  {
   "cell_type": "code",
   "execution_count": 49,
   "metadata": {},
   "outputs": [
    {
     "data": {
      "text/plain": [
       "PolynomialFeatures(degree=10, include_bias=True, interaction_only=False,\n",
       "                   order='C')"
      ]
     },
     "execution_count": 49,
     "metadata": {},
     "output_type": "execute_result"
    }
   ],
   "source": [
    "poly_reg10 = PolynomialFeatures(degree = 10)\n",
    "X_poly10 = poly_reg10.fit_transform(X)\n",
    "poly_reg10.fit(X_poly10, y)"
   ]
  },
  {
   "cell_type": "code",
   "execution_count": 50,
   "metadata": {},
   "outputs": [
    {
     "name": "stdout",
     "output_type": "stream",
     "text": [
      "[[1.00000000e+00 1.00000000e+00 1.00000000e+00 1.00000000e+00\n",
      "  1.00000000e+00 1.00000000e+00 1.00000000e+00 1.00000000e+00\n",
      "  1.00000000e+00 1.00000000e+00 1.00000000e+00]\n",
      " [1.00000000e+00 2.00000000e+00 4.00000000e+00 8.00000000e+00\n",
      "  1.60000000e+01 3.20000000e+01 6.40000000e+01 1.28000000e+02\n",
      "  2.56000000e+02 5.12000000e+02 1.02400000e+03]\n",
      " [1.00000000e+00 3.00000000e+00 9.00000000e+00 2.70000000e+01\n",
      "  8.10000000e+01 2.43000000e+02 7.29000000e+02 2.18700000e+03\n",
      "  6.56100000e+03 1.96830000e+04 5.90490000e+04]\n",
      " [1.00000000e+00 4.00000000e+00 1.60000000e+01 6.40000000e+01\n",
      "  2.56000000e+02 1.02400000e+03 4.09600000e+03 1.63840000e+04\n",
      "  6.55360000e+04 2.62144000e+05 1.04857600e+06]\n",
      " [1.00000000e+00 5.00000000e+00 2.50000000e+01 1.25000000e+02\n",
      "  6.25000000e+02 3.12500000e+03 1.56250000e+04 7.81250000e+04\n",
      "  3.90625000e+05 1.95312500e+06 9.76562500e+06]\n",
      " [1.00000000e+00 6.00000000e+00 3.60000000e+01 2.16000000e+02\n",
      "  1.29600000e+03 7.77600000e+03 4.66560000e+04 2.79936000e+05\n",
      "  1.67961600e+06 1.00776960e+07 6.04661760e+07]\n",
      " [1.00000000e+00 7.00000000e+00 4.90000000e+01 3.43000000e+02\n",
      "  2.40100000e+03 1.68070000e+04 1.17649000e+05 8.23543000e+05\n",
      "  5.76480100e+06 4.03536070e+07 2.82475249e+08]\n",
      " [1.00000000e+00 8.00000000e+00 6.40000000e+01 5.12000000e+02\n",
      "  4.09600000e+03 3.27680000e+04 2.62144000e+05 2.09715200e+06\n",
      "  1.67772160e+07 1.34217728e+08 1.07374182e+09]\n",
      " [1.00000000e+00 9.00000000e+00 8.10000000e+01 7.29000000e+02\n",
      "  6.56100000e+03 5.90490000e+04 5.31441000e+05 4.78296900e+06\n",
      "  4.30467210e+07 3.87420489e+08 3.48678440e+09]\n",
      " [1.00000000e+00 1.00000000e+01 1.00000000e+02 1.00000000e+03\n",
      "  1.00000000e+04 1.00000000e+05 1.00000000e+06 1.00000000e+07\n",
      "  1.00000000e+08 1.00000000e+09 1.00000000e+10]]\n"
     ]
    }
   ],
   "source": [
    "print(X_poly10)"
   ]
  },
  {
   "cell_type": "code",
   "execution_count": 51,
   "metadata": {},
   "outputs": [
    {
     "data": {
      "text/plain": [
       "LinearRegression(copy_X=True, fit_intercept=True, n_jobs=None, normalize=False)"
      ]
     },
     "execution_count": 51,
     "metadata": {},
     "output_type": "execute_result"
    }
   ],
   "source": [
    "lin_reg10 = LinearRegression()\n",
    "lin_reg10.fit(X_poly10, y)"
   ]
  },
  {
   "cell_type": "code",
   "execution_count": 52,
   "metadata": {},
   "outputs": [
    {
     "data": {
      "text/plain": [
       "[<matplotlib.lines.Line2D at 0x7f34bb476890>]"
      ]
     },
     "execution_count": 52,
     "metadata": {},
     "output_type": "execute_result"
    },
    {
     "data": {
      "image/png": "[encoded data removed]",
      "text/plain": [
       "<Figure size 432x288 with 1 Axes>"
      ]
     },
     "metadata": {
      "needs_background": "light"
     },
     "output_type": "display_data"
    }
   ],
   "source": [
    "plt.title(u'Wysokość wynagrodzenia vs pozycja')\n",
    "plt.xlabel(u'Pozycja')\n",
    "plt.ylabel(u'Wysokość wynagrodzenia')\n",
    "\n",
    "plt.scatter(X, y, color = 'red')\n",
    "plt.plot(X, lin_reg10.predict(poly_reg10.fit_transform(X)), color = 'blue')"
   ]
  },
  {
   "cell_type": "code",
   "execution_count": 53,
   "metadata": {},
   "outputs": [
    {
     "name": "stdout",
     "output_type": "stream",
     "text": [
      "[150000.00027499]\n"
     ]
    }
   ],
   "source": [
    "print(lin_reg10.predict(poly_reg10.fit_transform(arr)))"
   ]
  }
 ],
 "metadata": {
  "kernelspec": {
   "display_name": "Python 3",
   "language": "python",
   "name": "python3"
  },
  "language_info": {
   "codemirror_mode": {
    "name": "ipython",
    "version": 3
   },
   "file_extension": ".py",
   "mimetype": "text/x-python",
   "name": "python",
   "nbconvert_exporter": "python",
   "pygments_lexer": "ipython3",
   "version": "3.7.6"
  }
 },
 "nbformat": 4,
 "nbformat_minor": 4
}
