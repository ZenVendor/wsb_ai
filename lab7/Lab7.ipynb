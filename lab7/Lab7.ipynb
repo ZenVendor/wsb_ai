{
 "cells": [
  {
   "cell_type": "code",
   "execution_count": 16,
   "metadata": {},
   "outputs": [],
   "source": [
    "import numpy as np\n",
    "import matplotlib.pyplot as plt\n",
    "import pandas as pd"
   ]
  },
  {
   "cell_type": "code",
   "execution_count": 17,
   "metadata": {},
   "outputs": [],
   "source": [
    "dataset = pd.read_csv('Churn_Modelling.csv')\n",
    "X = dataset.iloc[:, 3:13].values\n",
    "y = dataset.iloc[:, 13].values"
   ]
  },
  {
   "cell_type": "code",
   "execution_count": 18,
   "metadata": {},
   "outputs": [],
   "source": [
    "from sklearn.preprocessing import LabelEncoder, OneHotEncoder\n",
    "from sklearn.compose import ColumnTransformer"
   ]
  },
  {
   "cell_type": "code",
   "execution_count": 19,
   "metadata": {},
   "outputs": [],
   "source": [
    "labelencoder_X_1 = LabelEncoder()\n",
    "X[:,1] = labelencoder_X_1.fit_transform(X[:,1])\n",
    "labelencoder_X_2 = LabelEncoder()\n",
    "X[:,2] = labelencoder_X_2.fit_transform(X[:,2])\n",
    "ct= ColumnTransformer([(\"Geography\",   OneHotEncoder(), [1])],remainder = 'passthrough')\n",
    "X = ct.fit_transform(X)\n",
    "X = X[:, 1:]"
   ]
  },
  {
   "cell_type": "code",
   "execution_count": 20,
   "metadata": {},
   "outputs": [],
   "source": [
    "from sklearn.model_selection import train_test_split\n",
    "X_train, X_test, y_train, y_test = train_test_split(X,y,test_size = 0.2, random_state = 0)"
   ]
  },
  {
   "cell_type": "code",
   "execution_count": 21,
   "metadata": {},
   "outputs": [],
   "source": [
    "from sklearn.preprocessing import StandardScaler\n",
    "sc = StandardScaler()\n",
    "X_train = sc.fit_transform(X_train)\n",
    "X_test = sc.transform(X_test)"
   ]
  },
  {
   "cell_type": "code",
   "execution_count": 22,
   "metadata": {},
   "outputs": [
    {
     "name": "stderr",
     "output_type": "stream",
     "text": [
      "Using TensorFlow backend.\n",
      "/home/zen/.local/lib/python3.7/site-packages/tensorflow/python/framework/dtypes.py:516: FutureWarning: Passing (type, 1) or '1type' as a synonym of type is deprecated; in a future version of numpy, it will be understood as (type, (1,)) / '(1,)type'.\n",
      "  _np_qint8 = np.dtype([(\"qint8\", np.int8, 1)])\n",
      "/home/zen/.local/lib/python3.7/site-packages/tensorflow/python/framework/dtypes.py:517: FutureWarning: Passing (type, 1) or '1type' as a synonym of type is deprecated; in a future version of numpy, it will be understood as (type, (1,)) / '(1,)type'.\n",
      "  _np_quint8 = np.dtype([(\"quint8\", np.uint8, 1)])\n",
      "/home/zen/.local/lib/python3.7/site-packages/tensorflow/python/framework/dtypes.py:518: FutureWarning: Passing (type, 1) or '1type' as a synonym of type is deprecated; in a future version of numpy, it will be understood as (type, (1,)) / '(1,)type'.\n",
      "  _np_qint16 = np.dtype([(\"qint16\", np.int16, 1)])\n",
      "/home/zen/.local/lib/python3.7/site-packages/tensorflow/python/framework/dtypes.py:519: FutureWarning: Passing (type, 1) or '1type' as a synonym of type is deprecated; in a future version of numpy, it will be understood as (type, (1,)) / '(1,)type'.\n",
      "  _np_quint16 = np.dtype([(\"quint16\", np.uint16, 1)])\n",
      "/home/zen/.local/lib/python3.7/site-packages/tensorflow/python/framework/dtypes.py:520: FutureWarning: Passing (type, 1) or '1type' as a synonym of type is deprecated; in a future version of numpy, it will be understood as (type, (1,)) / '(1,)type'.\n",
      "  _np_qint32 = np.dtype([(\"qint32\", np.int32, 1)])\n",
      "/home/zen/.local/lib/python3.7/site-packages/tensorflow/python/framework/dtypes.py:525: FutureWarning: Passing (type, 1) or '1type' as a synonym of type is deprecated; in a future version of numpy, it will be understood as (type, (1,)) / '(1,)type'.\n",
      "  np_resource = np.dtype([(\"resource\", np.ubyte, 1)])\n",
      "/home/zen/.local/lib/python3.7/site-packages/tensorboard/compat/tensorflow_stub/dtypes.py:541: FutureWarning: Passing (type, 1) or '1type' as a synonym of type is deprecated; in a future version of numpy, it will be understood as (type, (1,)) / '(1,)type'.\n",
      "  _np_qint8 = np.dtype([(\"qint8\", np.int8, 1)])\n",
      "/home/zen/.local/lib/python3.7/site-packages/tensorboard/compat/tensorflow_stub/dtypes.py:542: FutureWarning: Passing (type, 1) or '1type' as a synonym of type is deprecated; in a future version of numpy, it will be understood as (type, (1,)) / '(1,)type'.\n",
      "  _np_quint8 = np.dtype([(\"quint8\", np.uint8, 1)])\n",
      "/home/zen/.local/lib/python3.7/site-packages/tensorboard/compat/tensorflow_stub/dtypes.py:543: FutureWarning: Passing (type, 1) or '1type' as a synonym of type is deprecated; in a future version of numpy, it will be understood as (type, (1,)) / '(1,)type'.\n",
      "  _np_qint16 = np.dtype([(\"qint16\", np.int16, 1)])\n",
      "/home/zen/.local/lib/python3.7/site-packages/tensorboard/compat/tensorflow_stub/dtypes.py:544: FutureWarning: Passing (type, 1) or '1type' as a synonym of type is deprecated; in a future version of numpy, it will be understood as (type, (1,)) / '(1,)type'.\n",
      "  _np_quint16 = np.dtype([(\"quint16\", np.uint16, 1)])\n",
      "/home/zen/.local/lib/python3.7/site-packages/tensorboard/compat/tensorflow_stub/dtypes.py:545: FutureWarning: Passing (type, 1) or '1type' as a synonym of type is deprecated; in a future version of numpy, it will be understood as (type, (1,)) / '(1,)type'.\n",
      "  _np_qint32 = np.dtype([(\"qint32\", np.int32, 1)])\n",
      "/home/zen/.local/lib/python3.7/site-packages/tensorboard/compat/tensorflow_stub/dtypes.py:550: FutureWarning: Passing (type, 1) or '1type' as a synonym of type is deprecated; in a future version of numpy, it will be understood as (type, (1,)) / '(1,)type'.\n",
      "  np_resource = np.dtype([(\"resource\", np.ubyte, 1)])\n"
     ]
    }
   ],
   "source": [
    "import keras\n",
    "from keras.models import Sequential\n",
    "from keras.layers import Dense"
   ]
  },
  {
   "cell_type": "code",
   "execution_count": 23,
   "metadata": {},
   "outputs": [
    {
     "name": "stderr",
     "output_type": "stream",
     "text": [
      "/home/zen/.local/lib/python3.7/site-packages/ipykernel_launcher.py:2: UserWarning: Update your `Dense` call to the Keras 2 API: `Dense(activation=\"relu\", input_dim=11, units=6, kernel_initializer=\"uniform\")`\n",
      "  \n"
     ]
    }
   ],
   "source": [
    "classifier = Sequential()\n",
    "classifier.add(Dense(output_dim = 6, init = 'uniform',activation = 'relu', input_dim = 11))"
   ]
  },
  {
   "cell_type": "code",
   "execution_count": 24,
   "metadata": {},
   "outputs": [
    {
     "name": "stderr",
     "output_type": "stream",
     "text": [
      "/home/zen/.local/lib/python3.7/site-packages/ipykernel_launcher.py:1: UserWarning: Update your `Dense` call to the Keras 2 API: `Dense(activation=\"relu\", units=6, kernel_initializer=\"uniform\")`\n",
      "  \"\"\"Entry point for launching an IPython kernel.\n"
     ]
    }
   ],
   "source": [
    "classifier.add(Dense(output_dim = 6, init = 'uniform',activation = 'relu'))"
   ]
  },
  {
   "cell_type": "code",
   "execution_count": 25,
   "metadata": {},
   "outputs": [
    {
     "name": "stderr",
     "output_type": "stream",
     "text": [
      "/home/zen/.local/lib/python3.7/site-packages/ipykernel_launcher.py:1: UserWarning: Update your `Dense` call to the Keras 2 API: `Dense(activation=\"sigmoid\", units=1, kernel_initializer=\"uniform\")`\n",
      "  \"\"\"Entry point for launching an IPython kernel.\n"
     ]
    }
   ],
   "source": [
    "classifier.add(Dense(output_dim = 1, init = 'uniform',activation = 'sigmoid'))"
   ]
  },
  {
   "cell_type": "code",
   "execution_count": 27,
   "metadata": {},
   "outputs": [
    {
     "name": "stdout",
     "output_type": "stream",
     "text": [
      "WARNING:tensorflow:From /home/zen/.local/lib/python3.7/site-packages/tensorflow/python/ops/nn_impl.py:180: add_dispatch_support.<locals>.wrapper (from tensorflow.python.ops.array_ops) is deprecated and will be removed in a future version.\n",
      "Instructions for updating:\n",
      "Use tf.where in 2.0, which has the same broadcast rule as np.where\n"
     ]
    }
   ],
   "source": [
    "classifier.compile(optimizer = 'adam', loss ='binary_crossentropy', metrics = ['accuracy'])"
   ]
  },
  {
   "cell_type": "code",
   "execution_count": 28,
   "metadata": {},
   "outputs": [
    {
     "name": "stderr",
     "output_type": "stream",
     "text": [
      "/home/zen/.local/lib/python3.7/site-packages/ipykernel_launcher.py:1: UserWarning: The `nb_epoch` argument in `fit` has been renamed `epochs`.\n",
      "  \"\"\"Entry point for launching an IPython kernel.\n"
     ]
    },
    {
     "name": "stdout",
     "output_type": "stream",
     "text": [
      "WARNING:tensorflow:From /home/zen/.local/lib/python3.7/site-packages/keras/backend/tensorflow_backend.py:422: The name tf.global_variables is deprecated. Please use tf.compat.v1.global_variables instead.\n",
      "\n",
      "Epoch 1/100\n",
      "8000/8000 [==============================] - 1s 124us/step - loss: 0.4892 - accuracy: 0.7947\n",
      "Epoch 2/100\n",
      "8000/8000 [==============================] - 1s 105us/step - loss: 0.4257 - accuracy: 0.7960\n",
      "Epoch 3/100\n",
      "8000/8000 [==============================] - 1s 127us/step - loss: 0.4177 - accuracy: 0.8234\n",
      "Epoch 4/100\n",
      "8000/8000 [==============================] - 1s 105us/step - loss: 0.4124 - accuracy: 0.8319\n",
      "Epoch 5/100\n",
      "8000/8000 [==============================] - 1s 118us/step - loss: 0.4086 - accuracy: 0.8339\n",
      "Epoch 6/100\n",
      "8000/8000 [==============================] - 1s 105us/step - loss: 0.4062 - accuracy: 0.8342\n",
      "Epoch 7/100\n",
      "8000/8000 [==============================] - 1s 107us/step - loss: 0.4041 - accuracy: 0.8351\n",
      "Epoch 8/100\n",
      "8000/8000 [==============================] - 1s 107us/step - loss: 0.4027 - accuracy: 0.8335\n",
      "Epoch 9/100\n",
      "8000/8000 [==============================] - 1s 123us/step - loss: 0.4015 - accuracy: 0.8350\n",
      "Epoch 10/100\n",
      "8000/8000 [==============================] - 1s 138us/step - loss: 0.4006 - accuracy: 0.8347\n",
      "Epoch 11/100\n",
      "8000/8000 [==============================] - 1s 112us/step - loss: 0.4000 - accuracy: 0.8334\n",
      "Epoch 12/100\n",
      "8000/8000 [==============================] - 1s 109us/step - loss: 0.3993 - accuracy: 0.8363\n",
      "Epoch 13/100\n",
      "8000/8000 [==============================] - 1s 111us/step - loss: 0.3986 - accuracy: 0.8340\n",
      "Epoch 14/100\n",
      "8000/8000 [==============================] - 1s 109us/step - loss: 0.3977 - accuracy: 0.8338\n",
      "Epoch 15/100\n",
      "8000/8000 [==============================] - 1s 115us/step - loss: 0.3973 - accuracy: 0.8347\n",
      "Epoch 16/100\n",
      "8000/8000 [==============================] - 1s 123us/step - loss: 0.3973 - accuracy: 0.8350\n",
      "Epoch 17/100\n",
      "8000/8000 [==============================] - 1s 118us/step - loss: 0.3966 - accuracy: 0.8341\n",
      "Epoch 18/100\n",
      "8000/8000 [==============================] - 1s 111us/step - loss: 0.3965 - accuracy: 0.8359\n",
      "Epoch 19/100\n",
      "8000/8000 [==============================] - 1s 109us/step - loss: 0.3961 - accuracy: 0.8353\n",
      "Epoch 20/100\n",
      "8000/8000 [==============================] - 1s 112us/step - loss: 0.3960 - accuracy: 0.8354\n",
      "Epoch 21/100\n",
      "8000/8000 [==============================] - 1s 115us/step - loss: 0.3957 - accuracy: 0.8346\n",
      "Epoch 22/100\n",
      "8000/8000 [==============================] - 1s 122us/step - loss: 0.3956 - accuracy: 0.8328\n",
      "Epoch 23/100\n",
      "8000/8000 [==============================] - 1s 114us/step - loss: 0.3953 - accuracy: 0.8341\n",
      "Epoch 24/100\n",
      "8000/8000 [==============================] - 1s 112us/step - loss: 0.3953 - accuracy: 0.8331\n",
      "Epoch 25/100\n",
      "8000/8000 [==============================] - 1s 126us/step - loss: 0.3944 - accuracy: 0.8355\n",
      "Epoch 26/100\n",
      "8000/8000 [==============================] - 1s 117us/step - loss: 0.3954 - accuracy: 0.8336\n",
      "Epoch 27/100\n",
      "8000/8000 [==============================] - 1s 112us/step - loss: 0.3945 - accuracy: 0.8336\n",
      "Epoch 28/100\n",
      "8000/8000 [==============================] - 1s 108us/step - loss: 0.3949 - accuracy: 0.8357\n",
      "Epoch 29/100\n",
      "8000/8000 [==============================] - 1s 111us/step - loss: 0.3950 - accuracy: 0.8328\n",
      "Epoch 30/100\n",
      "8000/8000 [==============================] - 1s 113us/step - loss: 0.3941 - accuracy: 0.8366\n",
      "Epoch 31/100\n",
      "8000/8000 [==============================] - 1s 119us/step - loss: 0.3946 - accuracy: 0.8346\n",
      "Epoch 32/100\n",
      "8000/8000 [==============================] - 1s 151us/step - loss: 0.3947 - accuracy: 0.8359\n",
      "Epoch 33/100\n",
      "8000/8000 [==============================] - 1s 152us/step - loss: 0.3943 - accuracy: 0.8340\n",
      "Epoch 34/100\n",
      "8000/8000 [==============================] - 2s 189us/step - loss: 0.3947 - accuracy: 0.8359\n",
      "Epoch 35/100\n",
      "8000/8000 [==============================] - 1s 119us/step - loss: 0.3949 - accuracy: 0.8341\n",
      "Epoch 36/100\n",
      "8000/8000 [==============================] - 1s 107us/step - loss: 0.3946 - accuracy: 0.8366\n",
      "Epoch 37/100\n",
      "8000/8000 [==============================] - 1s 103us/step - loss: 0.3940 - accuracy: 0.8369\n",
      "Epoch 38/100\n",
      "8000/8000 [==============================] - 1s 159us/step - loss: 0.3948 - accuracy: 0.8351\n",
      "Epoch 39/100\n",
      "8000/8000 [==============================] - 1s 115us/step - loss: 0.3936 - accuracy: 0.8363\n",
      "Epoch 40/100\n",
      "8000/8000 [==============================] - 1s 110us/step - loss: 0.3942 - accuracy: 0.8360\n",
      "Epoch 41/100\n",
      "8000/8000 [==============================] - 1s 103us/step - loss: 0.3944 - accuracy: 0.8341\n",
      "Epoch 42/100\n",
      "8000/8000 [==============================] - 1s 97us/step - loss: 0.3938 - accuracy: 0.8360\n",
      "Epoch 43/100\n",
      "8000/8000 [==============================] - 1s 100us/step - loss: 0.3941 - accuracy: 0.8339\n",
      "Epoch 44/100\n",
      "8000/8000 [==============================] - 1s 123us/step - loss: 0.3937 - accuracy: 0.8349\n",
      "Epoch 45/100\n",
      "8000/8000 [==============================] - 1s 146us/step - loss: 0.3942 - accuracy: 0.8361\n",
      "Epoch 46/100\n",
      "8000/8000 [==============================] - 1s 116us/step - loss: 0.3938 - accuracy: 0.8364\n",
      "Epoch 47/100\n",
      "8000/8000 [==============================] - 1s 127us/step - loss: 0.3941 - accuracy: 0.8367\n",
      "Epoch 48/100\n",
      "8000/8000 [==============================] - 1s 116us/step - loss: 0.3943 - accuracy: 0.8361\n",
      "Epoch 49/100\n",
      "8000/8000 [==============================] - 1s 110us/step - loss: 0.3938 - accuracy: 0.8356\n",
      "Epoch 50/100\n",
      "8000/8000 [==============================] - 1s 112us/step - loss: 0.3939 - accuracy: 0.8350\n",
      "Epoch 51/100\n",
      "8000/8000 [==============================] - 1s 94us/step - loss: 0.3934 - accuracy: 0.8369\n",
      "Epoch 52/100\n",
      "8000/8000 [==============================] - 1s 110us/step - loss: 0.3939 - accuracy: 0.8356\n",
      "Epoch 53/100\n",
      "8000/8000 [==============================] - 1s 117us/step - loss: 0.3932 - accuracy: 0.8363\n",
      "Epoch 54/100\n",
      "8000/8000 [==============================] - 1s 122us/step - loss: 0.3936 - accuracy: 0.8357\n",
      "Epoch 55/100\n",
      "8000/8000 [==============================] - 1s 103us/step - loss: 0.3939 - accuracy: 0.8359\n",
      "Epoch 56/100\n",
      "8000/8000 [==============================] - 1s 98us/step - loss: 0.3935 - accuracy: 0.8366\n",
      "Epoch 57/100\n",
      "8000/8000 [==============================] - 1s 102us/step - loss: 0.3937 - accuracy: 0.8363\n",
      "Epoch 58/100\n",
      "8000/8000 [==============================] - 1s 100us/step - loss: 0.3940 - accuracy: 0.8353\n",
      "Epoch 59/100\n",
      "8000/8000 [==============================] - 1s 91us/step - loss: 0.3935 - accuracy: 0.8353\n",
      "Epoch 60/100\n",
      "8000/8000 [==============================] - 1s 92us/step - loss: 0.3932 - accuracy: 0.8353\n",
      "Epoch 61/100\n",
      "8000/8000 [==============================] - 1s 96us/step - loss: 0.3941 - accuracy: 0.8375\n",
      "Epoch 62/100\n",
      "8000/8000 [==============================] - 1s 95us/step - loss: 0.3936 - accuracy: 0.8353\n",
      "Epoch 63/100\n",
      "8000/8000 [==============================] - 1s 109us/step - loss: 0.3938 - accuracy: 0.8357\n",
      "Epoch 64/100\n",
      "8000/8000 [==============================] - 1s 117us/step - loss: 0.3938 - accuracy: 0.8367\n",
      "Epoch 65/100\n",
      "8000/8000 [==============================] - 1s 131us/step - loss: 0.3932 - accuracy: 0.8346\n",
      "Epoch 66/100\n",
      "8000/8000 [==============================] - 1s 139us/step - loss: 0.3934 - accuracy: 0.8376\n",
      "Epoch 67/100\n",
      "8000/8000 [==============================] - 1s 123us/step - loss: 0.3937 - accuracy: 0.8365\n",
      "Epoch 68/100\n",
      "8000/8000 [==============================] - 1s 141us/step - loss: 0.3935 - accuracy: 0.8355\n",
      "Epoch 69/100\n",
      "8000/8000 [==============================] - 1s 140us/step - loss: 0.3933 - accuracy: 0.8366\n",
      "Epoch 70/100\n",
      "8000/8000 [==============================] - 1s 106us/step - loss: 0.3935 - accuracy: 0.8347\n",
      "Epoch 71/100\n",
      "8000/8000 [==============================] - 1s 110us/step - loss: 0.3934 - accuracy: 0.8356\n",
      "Epoch 72/100\n",
      "8000/8000 [==============================] - 1s 109us/step - loss: 0.3935 - accuracy: 0.8366\n",
      "Epoch 73/100\n",
      "8000/8000 [==============================] - 1s 107us/step - loss: 0.3935 - accuracy: 0.8356\n",
      "Epoch 74/100\n",
      "8000/8000 [==============================] - 1s 110us/step - loss: 0.3933 - accuracy: 0.8361\n",
      "Epoch 75/100\n",
      "8000/8000 [==============================] - 1s 111us/step - loss: 0.3931 - accuracy: 0.8359\n",
      "Epoch 76/100\n",
      "8000/8000 [==============================] - 1s 110us/step - loss: 0.3936 - accuracy: 0.8380\n",
      "Epoch 77/100\n",
      "8000/8000 [==============================] - 1s 108us/step - loss: 0.3931 - accuracy: 0.8366\n",
      "Epoch 78/100\n",
      "8000/8000 [==============================] - 1s 111us/step - loss: 0.3937 - accuracy: 0.8351\n",
      "Epoch 79/100\n",
      "8000/8000 [==============================] - 1s 113us/step - loss: 0.3931 - accuracy: 0.8386\n",
      "Epoch 80/100\n",
      "8000/8000 [==============================] - 1s 113us/step - loss: 0.3929 - accuracy: 0.8354\n",
      "Epoch 81/100\n",
      "8000/8000 [==============================] - 1s 110us/step - loss: 0.3931 - accuracy: 0.8369\n",
      "Epoch 82/100\n",
      "8000/8000 [==============================] - 1s 111us/step - loss: 0.3935 - accuracy: 0.8365\n",
      "Epoch 83/100\n",
      "8000/8000 [==============================] - 1s 113us/step - loss: 0.3936 - accuracy: 0.8357\n",
      "Epoch 84/100\n",
      "8000/8000 [==============================] - 1s 114us/step - loss: 0.3937 - accuracy: 0.8349\n",
      "Epoch 85/100\n",
      "8000/8000 [==============================] - 1s 113us/step - loss: 0.3932 - accuracy: 0.8372\n",
      "Epoch 86/100\n",
      "8000/8000 [==============================] - 1s 115us/step - loss: 0.3933 - accuracy: 0.8363\n",
      "Epoch 87/100\n",
      "8000/8000 [==============================] - 1s 119us/step - loss: 0.3934 - accuracy: 0.8354\n",
      "Epoch 88/100\n",
      "8000/8000 [==============================] - 1s 114us/step - loss: 0.3933 - accuracy: 0.8347\n",
      "Epoch 89/100\n",
      "8000/8000 [==============================] - 1s 115us/step - loss: 0.3933 - accuracy: 0.8353\n",
      "Epoch 90/100\n",
      "8000/8000 [==============================] - 1s 112us/step - loss: 0.3937 - accuracy: 0.8360\n",
      "Epoch 91/100\n",
      "8000/8000 [==============================] - 1s 114us/step - loss: 0.3937 - accuracy: 0.8349\n",
      "Epoch 92/100\n",
      "8000/8000 [==============================] - 1s 113us/step - loss: 0.3934 - accuracy: 0.8359\n",
      "Epoch 93/100\n",
      "8000/8000 [==============================] - 1s 113us/step - loss: 0.3926 - accuracy: 0.8364\n",
      "Epoch 94/100\n",
      "8000/8000 [==============================] - 1s 114us/step - loss: 0.3930 - accuracy: 0.8361\n",
      "Epoch 95/100\n",
      "8000/8000 [==============================] - 1s 118us/step - loss: 0.3928 - accuracy: 0.8376\n",
      "Epoch 96/100\n",
      "8000/8000 [==============================] - 1s 115us/step - loss: 0.3934 - accuracy: 0.8364\n",
      "Epoch 97/100\n",
      "8000/8000 [==============================] - 1s 140us/step - loss: 0.3935 - accuracy: 0.8366\n",
      "Epoch 98/100\n",
      "8000/8000 [==============================] - 1s 128us/step - loss: 0.3933 - accuracy: 0.8366\n",
      "Epoch 99/100\n",
      "8000/8000 [==============================] - 1s 111us/step - loss: 0.3930 - accuracy: 0.8357\n",
      "Epoch 100/100\n",
      "8000/8000 [==============================] - 1s 109us/step - loss: 0.3932 - accuracy: 0.8349\n"
     ]
    },
    {
     "data": {
      "text/plain": [
       "<keras.callbacks.callbacks.History at 0x7fe100da01d0>"
      ]
     },
     "execution_count": 28,
     "metadata": {},
     "output_type": "execute_result"
    }
   ],
   "source": [
    "classifier.fit(X_train, y_train, batch_size = 10, nb_epoch = 100)"
   ]
  },
  {
   "cell_type": "code",
   "execution_count": 30,
   "metadata": {},
   "outputs": [],
   "source": [
    "y_pred = classifier.predict(X_test)\n",
    "y_pred = (y_pred > 0.5)"
   ]
  },
  {
   "cell_type": "code",
   "execution_count": 31,
   "metadata": {},
   "outputs": [],
   "source": [
    "from sklearn.metrics import confusion_matrix\n",
    "cm = confusion_matrix(y_test, y_pred)"
   ]
  },
  {
   "cell_type": "code",
   "execution_count": 32,
   "metadata": {},
   "outputs": [
    {
     "name": "stdout",
     "output_type": "stream",
     "text": [
      "[[1541   54]\n",
      " [ 258  147]]\n"
     ]
    }
   ],
   "source": [
    "print(cm)"
   ]
  }
 ],
 "metadata": {
  "kernelspec": {
   "display_name": "Python 3",
   "language": "python",
   "name": "python3"
  },
  "language_info": {
   "codemirror_mode": {
    "name": "ipython",
    "version": 3
   },
   "file_extension": ".py",
   "mimetype": "text/x-python",
   "name": "python",
   "nbconvert_exporter": "python",
   "pygments_lexer": "ipython3",
   "version": "3.7.6"
  }
 },
 "nbformat": 4,
 "nbformat_minor": 4
}
